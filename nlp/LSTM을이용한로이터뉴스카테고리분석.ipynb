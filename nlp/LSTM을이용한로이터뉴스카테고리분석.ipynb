{
 "cells": [
  {
   "cell_type": "markdown",
   "metadata": {},
   "source": [
    "# 시퀀스 배열로 다루는 순환 신경망(RNN)"
   ]
  },
  {
   "cell_type": "markdown",
   "metadata": {},
   "source": [
    "### 1. LSTM을 이용한 로이터 뉴스 카테고리 분류하기"
   ]
  },
  {
   "cell_type": "code",
   "execution_count": 1,
   "metadata": {},
   "outputs": [],
   "source": [
    "from tensorflow.keras.models import Sequential\n",
    "from tensorflow.keras.layers import Dense, LSTM, Embedding\n",
    "from tensorflow.keras.utils import to_categorical\n",
    "from tensorflow.keras.preprocessing import sequence\n",
    "from tensorflow.keras.datasets import reuters       # 로이터 뉴스 데이터셋 불러오기\n",
    "from tensorflow.keras.callbacks import EarlyStopping"
   ]
  },
  {
   "cell_type": "code",
   "execution_count": 2,
   "metadata": {},
   "outputs": [
    {
     "name": "stdout",
     "output_type": "stream",
     "text": [
      "Help on package keras.api._v2.keras.datasets.reuters in keras.api._v2.keras.datasets:\n",
      "\n",
      "NAME\n",
      "    keras.api._v2.keras.datasets.reuters - Reuters topic classification dataset.\n",
      "\n",
      "PACKAGE CONTENTS\n",
      "\n",
      "\n",
      "FILE\n",
      "    c:\\programdata\\anaconda3\\envs\\nlpdl\\lib\\site-packages\\keras\\api\\_v2\\keras\\datasets\\reuters\\__init__.py\n",
      "\n",
      "\n"
     ]
    }
   ],
   "source": [
    "help(reuters)"
   ]
  },
  {
   "cell_type": "code",
   "execution_count": 3,
   "metadata": {},
   "outputs": [],
   "source": [
    "import numpy as np\n",
    "import matplotlib.pyplot as plt"
   ]
  },
  {
   "cell_type": "code",
   "execution_count": 4,
   "metadata": {},
   "outputs": [],
   "source": [
    "# 데이터를 불러와 학습셋, 테스트셋으로 나눕니다.\n",
    "(X_train, y_train), (X_test, y_test) = reuters.load_data(\n",
    "    num_words=1000,\n",
    "    # 임베딩 층을 설정할 때 사용하는 매개변수\n",
    "    # 단어 사전의 크기 지정\n",
    "    \n",
    "    # 자주 등장하는 상위 1000개의 단어만을 사용하는 경우 유용하다\n",
    "    # 단어 사전의 크기를 제한하여 메모리 사용을 줄이고 계산 효율성을 높인다\n",
    "    test_split=0.2)"
   ]
  },
  {
   "cell_type": "code",
   "execution_count": 5,
   "metadata": {},
   "outputs": [
    {
     "name": "stdout",
     "output_type": "stream",
     "text": [
      "46 카테고리\n",
      "8982 학습용 뉴스 기사\n",
      "2246 테스트용 뉴스 기사\n",
      "[1, 2, 2, 8, 43, 10, 447, 5, 25, 207, 270, 5, 2, 111, 16, 369, 186, 90, 67, 7, 89, 5, 19, 102, 6, 19, 124, 15, 90, 67, 84, 22, 482, 26, 7, 48, 4, 49, 8, 864, 39, 209, 154, 6, 151, 6, 83, 11, 15, 22, 155, 11, 15, 7, 48, 9, 2, 2, 504, 6, 258, 6, 272, 11, 15, 22, 134, 44, 11, 15, 16, 8, 197, 2, 90, 67, 52, 29, 209, 30, 32, 132, 6, 109, 15, 17, 12]\n"
     ]
    }
   ],
   "source": [
    "# 데이터를 확인해 보겠습니다.\n",
    "category = np.max(y_train) + 1\n",
    "print(category, '카테고리')\n",
    "print(len(X_train), '학습용 뉴스 기사')\n",
    "print(len(X_test), '테스트용 뉴스 기사')\n",
    "print(X_train[0])"
   ]
  },
  {
   "cell_type": "code",
   "execution_count": 6,
   "metadata": {},
   "outputs": [
    {
     "data": {
      "text/plain": [
       "[1,\n",
       " 2,\n",
       " 2,\n",
       " 8,\n",
       " 43,\n",
       " 10,\n",
       " 447,\n",
       " 5,\n",
       " 25,\n",
       " 207,\n",
       " 270,\n",
       " 5,\n",
       " 2,\n",
       " 111,\n",
       " 16,\n",
       " 369,\n",
       " 186,\n",
       " 90,\n",
       " 67,\n",
       " 7,\n",
       " 89,\n",
       " 5,\n",
       " 19,\n",
       " 102,\n",
       " 6,\n",
       " 19,\n",
       " 124,\n",
       " 15,\n",
       " 90,\n",
       " 67,\n",
       " 84,\n",
       " 22,\n",
       " 482,\n",
       " 26,\n",
       " 7,\n",
       " 48,\n",
       " 4,\n",
       " 49,\n",
       " 8,\n",
       " 864,\n",
       " 39,\n",
       " 209,\n",
       " 154,\n",
       " 6,\n",
       " 151,\n",
       " 6,\n",
       " 83,\n",
       " 11,\n",
       " 15,\n",
       " 22,\n",
       " 155,\n",
       " 11,\n",
       " 15,\n",
       " 7,\n",
       " 48,\n",
       " 9,\n",
       " 2,\n",
       " 2,\n",
       " 504,\n",
       " 6,\n",
       " 258,\n",
       " 6,\n",
       " 272,\n",
       " 11,\n",
       " 15,\n",
       " 22,\n",
       " 134,\n",
       " 44,\n",
       " 11,\n",
       " 15,\n",
       " 16,\n",
       " 8,\n",
       " 197,\n",
       " 2,\n",
       " 90,\n",
       " 67,\n",
       " 52,\n",
       " 29,\n",
       " 209,\n",
       " 30,\n",
       " 32,\n",
       " 132,\n",
       " 6,\n",
       " 109,\n",
       " 15,\n",
       " 17,\n",
       " 12]"
      ]
     },
     "execution_count": 6,
     "metadata": {},
     "output_type": "execute_result"
    }
   ],
   "source": [
    "X_train[0]"
   ]
  },
  {
   "cell_type": "code",
   "execution_count": 7,
   "metadata": {},
   "outputs": [
    {
     "data": {
      "text/plain": [
       "(2246,)"
      ]
     },
     "execution_count": 7,
     "metadata": {},
     "output_type": "execute_result"
    }
   ],
   "source": [
    "X_test.shape"
   ]
  },
  {
   "cell_type": "code",
   "execution_count": 8,
   "metadata": {},
   "outputs": [],
   "source": [
    "# 단어의 수를 맞추어 줍니다. \n",
    "X_train = sequence.pad_sequences(X_train, maxlen=100)\n",
    "X_test = sequence.pad_sequences(X_test, maxlen=100)\n",
    "\n",
    "# 원-핫 인코딩 처리를 합니다.\n",
    "y_train = to_categorical(y_train)\n",
    "y_test = to_categorical(y_test)"
   ]
  },
  {
   "cell_type": "code",
   "execution_count": 9,
   "metadata": {},
   "outputs": [],
   "source": [
    "# 모델의 구조를 설정합니다.\n",
    "model = Sequential()\n",
    "model.add(Embedding(1000, 100))\n",
    "# (입력 단어의 사전 크기, 각 단어가 매핑될 임베딩 벡터의 차원)\n",
    "model.add(LSTM(100, activation='tanh'))\n",
    "# LSTM 층은 100개의 상태를 갖는 메모리 셀을 가지고,시퀀스 정보를 처리합니다\n",
    "# 하이퍼볼릭 탄젠트\n",
    "model.add(Dense(46, activation='softmax'))"
   ]
  },
  {
   "cell_type": "code",
   "execution_count": 10,
   "metadata": {},
   "outputs": [
    {
     "name": "stdout",
     "output_type": "stream",
     "text": [
      "Epoch 1/200\n",
      "450/450 [==============================] - 22s 46ms/step - loss: 2.1959 - accuracy: 0.4336 - val_loss: 1.8439 - val_accuracy: 0.5356\n",
      "Epoch 2/200\n",
      "450/450 [==============================] - 19s 41ms/step - loss: 1.7987 - accuracy: 0.5355 - val_loss: 1.7243 - val_accuracy: 0.5744\n",
      "Epoch 3/200\n",
      "450/450 [==============================] - 20s 43ms/step - loss: 1.6237 - accuracy: 0.5851 - val_loss: 1.6028 - val_accuracy: 0.5899\n",
      "Epoch 4/200\n",
      "450/450 [==============================] - 19s 42ms/step - loss: 1.4645 - accuracy: 0.6317 - val_loss: 1.4696 - val_accuracy: 0.6327\n",
      "Epoch 5/200\n",
      "450/450 [==============================] - 19s 41ms/step - loss: 1.2779 - accuracy: 0.6847 - val_loss: 1.3249 - val_accuracy: 0.6594\n",
      "Epoch 6/200\n",
      "450/450 [==============================] - 18s 41ms/step - loss: 1.1504 - accuracy: 0.7143 - val_loss: 1.2401 - val_accuracy: 0.6861\n",
      "Epoch 7/200\n",
      "450/450 [==============================] - 19s 42ms/step - loss: 1.0539 - accuracy: 0.7308 - val_loss: 1.1912 - val_accuracy: 0.6963\n",
      "Epoch 8/200\n",
      "450/450 [==============================] - 20s 44ms/step - loss: 0.9740 - accuracy: 0.7514 - val_loss: 1.1643 - val_accuracy: 0.7066\n",
      "Epoch 9/200\n",
      "450/450 [==============================] - 19s 43ms/step - loss: 0.9071 - accuracy: 0.7695 - val_loss: 1.1400 - val_accuracy: 0.7155\n",
      "Epoch 10/200\n",
      "450/450 [==============================] - 20s 44ms/step - loss: 0.8440 - accuracy: 0.7831 - val_loss: 1.1439 - val_accuracy: 0.7164\n",
      "Epoch 11/200\n",
      "450/450 [==============================] - 19s 43ms/step - loss: 0.7772 - accuracy: 0.8028 - val_loss: 1.1450 - val_accuracy: 0.7244\n",
      "Epoch 12/200\n",
      "450/450 [==============================] - 19s 43ms/step - loss: 0.7228 - accuracy: 0.8172 - val_loss: 1.1632 - val_accuracy: 0.7213\n",
      "Epoch 13/200\n",
      "450/450 [==============================] - 20s 44ms/step - loss: 0.6627 - accuracy: 0.8303 - val_loss: 1.1671 - val_accuracy: 0.7271\n",
      "Epoch 14/200\n",
      "450/450 [==============================] - 20s 44ms/step - loss: 0.6097 - accuracy: 0.8441 - val_loss: 1.1833 - val_accuracy: 0.7262\n",
      "71/71 [==============================] - 1s 17ms/step - loss: 1.1833 - accuracy: 0.7262\n",
      "\n",
      " Test Accuracy: 0.7262\n"
     ]
    }
   ],
   "source": [
    "# 모델의 실행 옵션을 정합니다.\n",
    "model.compile(loss='categorical_crossentropy',\n",
    "              optimizer='adam',\n",
    "              metrics=['accuracy'])\n",
    "\n",
    "# 학습의 조기 중단을 설정합니다.\n",
    "early_stopping_callback = EarlyStopping(monitor='val_loss',\n",
    "                                        patience=5)\n",
    "\n",
    "# 모델을 실행합니다.\n",
    "history = model.fit(X_train, y_train, batch_size=20,\n",
    "                    epochs=200, validation_data=(X_test, y_test),\n",
    "                    callbacks=[early_stopping_callback])\n",
    "\n",
    "# 테스트 정확도를 출력합니다.\n",
    "print(\"\\n Test Accuracy: %.4f\" % (model.evaluate(X_test, y_test)[1]))"
   ]
  },
  {
   "cell_type": "code",
   "execution_count": null,
   "metadata": {},
   "outputs": [],
   "source": []
  }
 ],
 "metadata": {
  "kernelspec": {
   "display_name": "myenv",
   "language": "python",
   "name": "python3"
  },
  "language_info": {
   "codemirror_mode": {
    "name": "ipython",
    "version": 3
   },
   "file_extension": ".py",
   "mimetype": "text/x-python",
   "name": "python",
   "nbconvert_exporter": "python",
   "pygments_lexer": "ipython3",
   "version": "3.11.9"
  }
 },
 "nbformat": 4,
 "nbformat_minor": 2
}
