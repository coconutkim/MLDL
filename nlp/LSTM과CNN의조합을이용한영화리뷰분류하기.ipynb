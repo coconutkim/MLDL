{
 "cells": [
  {
   "cell_type": "markdown",
   "metadata": {},
   "source": [
    "# LSTM과 CNN의 조합을 이용한 영화 리뷰 분류하기\n",
    "## 감정 분석"
   ]
  },
  {
   "cell_type": "code",
   "execution_count": 5,
   "metadata": {},
   "outputs": [],
   "source": [
    "# tf.keras.layers.LSTM(\n",
    "#     units,\n",
    "#     activation=&#x27;tanh',\n",
    "#     recurrent_activation=&#x27;sigmoid',\n",
    "#     use_bias=True,\n",
    "#     kernel_initializer=&#x27;glorot_uniform',\n",
    "#     recurrent_initializer=&#x27;orthogonal',\n",
    "#     bias_initializer=&#x27;zeros',\n",
    "#     unit_forget_bias=True,\n",
    "#     kernel_regularizer=None,\n",
    "#     recurrent_regularizer=None,\n",
    "#     bias_regularizer=None,\n",
    "#     activity_regularizer=None,\n",
    "#     kernel_constraint=None,\n",
    "#     recurrent_constraint=None,\n",
    "#     bias_constraint=None,\n",
    "#     dropout=0.0,\n",
    "#     recurrent_dropout=0.0,\n",
    "#     seed=None,\n",
    "#     return_sequences=False,\n",
    "#     return_state=False,\n",
    "#     go_backwards=False,\n",
    "#     stateful=False,\n",
    "#     unroll=False,\n",
    "#     use_cudnn=&#x27;auto',\n",
    "#     **kwargs\n",
    "# )"
   ]
  },
  {
   "cell_type": "markdown",
   "metadata": {},
   "source": [
    ">순환 신경망(RNN)\n",
    "\n",
    "시계열 데이터 또는 순차 데이터를 처리하는 데 적합한 신경망 구조\n",
    "\n",
    "기본적인 RNN은 긴 시퀀스의 정보를 기억하기 어렵습니다\n",
    "\n",
    "이는 기울기 소실(vanishing gradient) 문제 때문입니다"
   ]
  },
  {
   "cell_type": "markdown",
   "metadata": {},
   "source": [
    ">LSTM (Long Short-Term Memory) 네트워크\n",
    "\n",
    "순환 신경망(RNN)의 일종\n",
    "\n",
    "시계열 데이터나 순차 데이터 처리에 매우 유용합니다\n",
    "\n",
    "LSTM은 장기 의존성 문제를 해결하는 데 강점을 가지고 있으며, 입력 데이터가 시간에 따라 변화하는 패턴을 학습할 수 있습니다"
   ]
  },
  {
   "cell_type": "code",
   "execution_count": 1,
   "metadata": {},
   "outputs": [
    {
     "name": "stdout",
     "output_type": "stream",
     "text": [
      "Downloading data from https://storage.googleapis.com/tensorflow/tf-keras-datasets/imdb.npz\n",
      "17465344/17464789 [==============================] - 1s 0us/step\n",
      "17473536/17464789 [==============================] - 1s 0us/step\n",
      "Model: \"sequential\"\n",
      "_________________________________________________________________\n",
      " Layer (type)                Output Shape              Param #   \n",
      "=================================================================\n",
      " embedding (Embedding)       (None, None, 100)         500000    \n",
      "                                                                 \n",
      " dropout (Dropout)           (None, None, 100)         0         \n",
      "                                                                 \n",
      " conv1d (Conv1D)             (None, None, 64)          32064     \n",
      "                                                                 \n",
      " max_pooling1d (MaxPooling1D  (None, None, 64)         0         \n",
      " )                                                               \n",
      "                                                                 \n",
      " lstm (LSTM)                 (None, 55)                26400     \n",
      "                                                                 \n",
      " dense (Dense)               (None, 1)                 56        \n",
      "                                                                 \n",
      " activation (Activation)     (None, 1)                 0         \n",
      "                                                                 \n",
      "=================================================================\n",
      "Total params: 558,520\n",
      "Trainable params: 558,520\n",
      "Non-trainable params: 0\n",
      "_________________________________________________________________\n"
     ]
    }
   ],
   "source": [
    "from tensorflow.keras.models import Sequential\n",
    "from tensorflow.keras.layers import Dense, Dropout, Activation, Embedding, LSTM, Conv1D, MaxPooling1D\n",
    "from tensorflow.keras.datasets import imdb\n",
    "from tensorflow.keras.preprocessing import sequence\n",
    "from tensorflow.keras.callbacks import EarlyStopping\n",
    "\n",
    "import numpy as np\n",
    "import matplotlib.pyplot as plt\n",
    "\n",
    "# 데이터를 불러와 학습셋, 테스트셋으로 나눕니다.\n",
    "(X_train, y_train), (X_test, y_test) = imdb.load_data(num_words=5000)\n",
    "\n",
    "# 단어의 수를 맞추어 줍니다. \n",
    "X_train = sequence.pad_sequences(X_train, maxlen=500)\n",
    "X_test = sequence.pad_sequences(X_test, maxlen=500)\n",
    "# 길이를 지정하지 않으면 시퀀스의 길이에 따라 적절한 작업이 필요하다\n",
    "\n",
    "# 모델의 구조를 설정합니다.\n",
    "model = Sequential()\n",
    "model.add(Embedding(5000, 100))\n",
    "# 입력과 출력 차원: 단어의 개수, 각 단어를 100차원 벡터로 임베딩\n",
    "model.add(Dropout(0.5))\n",
    "# 과적합 방지 차 일정 비율의 뉴런을 랜덤하게 비활성화\n",
    "model.add(Conv1D(64, 5, padding='valid', activation='relu',strides=1))\n",
    "model.add(MaxPooling1D(pool_size=4))\n",
    "model.add(LSTM(55))\n",
    "model.add(Dense(1))\n",
    "model.add(Activation('sigmoid'))\n",
    "model.summary()"
   ]
  },
  {
   "cell_type": "code",
   "execution_count": 2,
   "metadata": {},
   "outputs": [
    {
     "name": "stdout",
     "output_type": "stream",
     "text": [
      "Epoch 1/100\n",
      "469/469 [==============================] - 23s 16ms/step - loss: 0.4204 - accuracy: 0.7897 - val_loss: 0.3098 - val_accuracy: 0.8694\n",
      "Epoch 2/100\n",
      "469/469 [==============================] - 7s 15ms/step - loss: 0.2358 - accuracy: 0.9087 - val_loss: 0.2809 - val_accuracy: 0.8816\n",
      "Epoch 3/100\n",
      "469/469 [==============================] - 7s 15ms/step - loss: 0.1829 - accuracy: 0.9327 - val_loss: 0.2704 - val_accuracy: 0.8874\n",
      "Epoch 4/100\n",
      "469/469 [==============================] - 7s 16ms/step - loss: 0.1473 - accuracy: 0.9453 - val_loss: 0.3149 - val_accuracy: 0.8846\n",
      "Epoch 5/100\n",
      "469/469 [==============================] - 7s 15ms/step - loss: 0.1152 - accuracy: 0.9594 - val_loss: 0.3047 - val_accuracy: 0.8870\n",
      "Epoch 6/100\n",
      "469/469 [==============================] - 7s 16ms/step - loss: 0.0899 - accuracy: 0.9696 - val_loss: 0.3192 - val_accuracy: 0.8854\n",
      "782/782 [==============================] - 5s 6ms/step - loss: 0.3509 - accuracy: 0.8771\n",
      "\n",
      " Test Accuracy: 0.8771\n"
     ]
    }
   ],
   "source": [
    "# 모델의 실행 옵션을 정합니다.\n",
    "model.compile(loss='binary_crossentropy', optimizer='adam', metrics=['accuracy'])\n",
    "\n",
    "# 학습의 조기 중단을 설정합니다.\n",
    "early_stopping_callback = EarlyStopping(monitor='val_loss', patience=3)\n",
    "\n",
    "# 모델을 실행합니다.\n",
    "history = model.fit(X_train, y_train, batch_size=40, epochs=100,\n",
    "                    validation_split=0.25, callbacks=[early_stopping_callback])\n",
    "\n",
    "# 테스트 정확도를 출력합니다.\n",
    "print(\"\\n Test Accuracy: %.4f\" % (model.evaluate(X_test, y_test)[1]))"
   ]
  },
  {
   "cell_type": "code",
   "execution_count": 3,
   "metadata": {},
   "outputs": [
    {
     "data": {
      "image/png": "[encoded data removed]",
      "text/plain": [
       "<Figure size 640x480 with 1 Axes>"
      ]
     },
     "metadata": {},
     "output_type": "display_data"
    }
   ],
   "source": [
    "# 학습셋과 테스트셋의 오차를 저장합니다. \n",
    "y_vloss = history.history['val_loss']\n",
    "y_loss = history.history['loss']\n",
    "\n",
    "# 그래프로 표현해 보겠습니다.\n",
    "x_len = np.arange(len(y_loss))\n",
    "plt.plot(x_len, y_vloss, marker='.', c=\"red\", label='Testset_loss')\n",
    "plt.plot(x_len, y_loss, marker='.', c=\"blue\", label='Trainset_loss')\n",
    "\n",
    "# 그래프에 그리드를 주고 레이블을 표시하겠습니다. \n",
    "plt.legend(loc='upper right')\n",
    "plt.grid()\n",
    "plt.xlabel('epoch')\n",
    "plt.ylabel('loss')\n",
    "plt.show()"
   ]
  }
 ],
 "metadata": {
  "kernelspec": {
   "display_name": "gputestfinal1",
   "language": "python",
   "name": "python3"
  },
  "language_info": {
   "codemirror_mode": {
    "name": "ipython",
    "version": 3
   },
   "file_extension": ".py",
   "mimetype": "text/x-python",
   "name": "python",
   "nbconvert_exporter": "python",
   "pygments_lexer": "ipython3",
   "version": "3.7.16"
  }
 },
 "nbformat": 4,
 "nbformat_minor": 2
}
